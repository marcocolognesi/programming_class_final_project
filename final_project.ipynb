{
  "nbformat": 4,
  "nbformat_minor": 0,
  "metadata": {
    "colab": {
      "provenance": [],
      "authorship_tag": "ABX9TyMJSLXL0kbDlsUQPgNorXKv",
      "include_colab_link": true
    },
    "kernelspec": {
      "name": "python3",
      "display_name": "Python 3"
    },
    "language_info": {
      "name": "python"
    }
  },
  "cells": [
    {
      "cell_type": "markdown",
      "metadata": {
        "id": "view-in-github",
        "colab_type": "text"
      },
      "source": [
        "<a href=\"https://colab.research.google.com/github/marcocolognesi/programming_class_final_project/blob/main/final_project.ipynb\" target=\"_parent\"><img src=\"https://colab.research.google.com/assets/colab-badge.svg\" alt=\"Open In Colab\"/></a>"
      ]
    },
    {
      "cell_type": "markdown",
      "source": [
        "#**First phase**: initial data exploration (*importing files and having a first look at the data*)"
      ],
      "metadata": {
        "id": "nxKvaWYS-IBG"
      }
    },
    {
      "cell_type": "code",
      "execution_count": 2,
      "metadata": {
        "id": "mm1SnyON9185"
      },
      "outputs": [],
      "source": [
        "import pandas as pd\n",
        "import matplotlib.pyplot as plt"
      ]
    },
    {
      "cell_type": "code",
      "source": [
        "original_suicide_df = pd.read_csv('master.csv')"
      ],
      "metadata": {
        "id": "j69HB5_F-K1c"
      },
      "execution_count": 6,
      "outputs": []
    },
    {
      "cell_type": "code",
      "source": [
        "suicide_df = original_suicide_df.copy()"
      ],
      "metadata": {
        "id": "vumCyuaz-VUD"
      },
      "execution_count": 7,
      "outputs": []
    },
    {
      "cell_type": "code",
      "source": [
        "suicide_df.info()"
      ],
      "metadata": {
        "colab": {
          "base_uri": "https://localhost:8080/"
        },
        "id": "bYp9tNbG-e-8",
        "outputId": "40cffe98-72da-4603-cdda-37d3c9b355a9"
      },
      "execution_count": 8,
      "outputs": [
        {
          "output_type": "stream",
          "name": "stdout",
          "text": [
            "<class 'pandas.core.frame.DataFrame'>\n",
            "RangeIndex: 31756 entries, 0 to 31755\n",
            "Data columns (total 12 columns):\n",
            " #   Column              Non-Null Count  Dtype  \n",
            "---  ------              --------------  -----  \n",
            " 0   country             31756 non-null  object \n",
            " 1   year                31756 non-null  int64  \n",
            " 2   sex                 31756 non-null  object \n",
            " 3   age                 31756 non-null  object \n",
            " 4   suicides_no         30556 non-null  float64\n",
            " 5   population          31756 non-null  int64  \n",
            " 6   suicides/100k pop   31756 non-null  float64\n",
            " 7   country-year        31756 non-null  object \n",
            " 8   HDI for year        12300 non-null  float64\n",
            " 9    gdp_for_year ($)   31756 non-null  object \n",
            " 10  gdp_per_capita ($)  31756 non-null  float64\n",
            " 11  generation          31756 non-null  object \n",
            "dtypes: float64(4), int64(2), object(6)\n",
            "memory usage: 2.9+ MB\n"
          ]
        }
      ]
    },
    {
      "cell_type": "markdown",
      "source": [
        "By a first look at the info of our dataset we see that the columns have tricky symbols to work with with, so we rename them:"
      ],
      "metadata": {
        "id": "lYvlMQiJ-91h"
      }
    },
    {
      "cell_type": "code",
      "source": [
        "suicide_df.columns = ['country', 'year', 'sex', 'age', 'suicides_no', 'population', 'suicides_100k_pop', 'country_year', 'hdi_for_year', 'gdp_for_year', 'gdp_per_capita', 'generation']"
      ],
      "metadata": {
        "id": "lzsFPrBG_J-y"
      },
      "execution_count": 9,
      "outputs": []
    },
    {
      "cell_type": "code",
      "source": [
        "#Other way\n",
        "#Replace ' ' with '_' method\n",
        "'''\n",
        "#FIXING COLUMNS NAME\n",
        "new_columns = []\n",
        "for column_name in data.columns:\n",
        "  new_column_name = column_name.replace(' ','_').replace('/','_').replace('-','_')\n",
        "  new_columns.append(new_column_name)\n",
        "\n",
        "data.columns = new_columns\n",
        "'''"
      ],
      "metadata": {
        "id": "JV8550W0_zbV"
      },
      "execution_count": null,
      "outputs": []
    },
    {
      "cell_type": "code",
      "source": [
        "suicide_df.columns"
      ],
      "metadata": {
        "colab": {
          "base_uri": "https://localhost:8080/"
        },
        "id": "gUAd1bcr_soO",
        "outputId": "8ce891c3-21ce-477d-b2b0-5b771a715eca"
      },
      "execution_count": 10,
      "outputs": [
        {
          "output_type": "execute_result",
          "data": {
            "text/plain": [
              "Index(['country', 'year', 'sex', 'age', 'suicides_no', 'population',\n",
              "       'suicides_100k_pop', 'country_year', 'hdi_for_year', 'gdp_for_year',\n",
              "       'gdp_per_capita', 'generation'],\n",
              "      dtype='object')"
            ]
          },
          "metadata": {},
          "execution_count": 10
        }
      ]
    }
  ]
}