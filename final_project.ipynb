{
  "nbformat": 4,
  "nbformat_minor": 0,
  "metadata": {
    "colab": {
      "provenance": [],
      "authorship_tag": "ABX9TyOJNfJ3jXnAi7A/hxZMRyhP",
      "include_colab_link": true
    },
    "kernelspec": {
      "name": "python3",
      "display_name": "Python 3"
    },
    "language_info": {
      "name": "python"
    }
  },
  "cells": [
    {
      "cell_type": "markdown",
      "metadata": {
        "id": "view-in-github",
        "colab_type": "text"
      },
      "source": [
        "<a href=\"https://colab.research.google.com/github/marcocolognesi/programming_class_final_project/blob/main/final_project.ipynb\" target=\"_parent\"><img src=\"https://colab.research.google.com/assets/colab-badge.svg\" alt=\"Open In Colab\"/></a>"
      ]
    },
    {
      "cell_type": "markdown",
      "source": [
        "# **Data exploration & wrangling**\n",
        "\n"
      ],
      "metadata": {
        "id": "xndv7rGeB_zr"
      }
    },
    {
      "cell_type": "code",
      "execution_count": 1,
      "metadata": {
        "id": "mm1SnyON9185"
      },
      "outputs": [],
      "source": [
        "import pandas as pd\n",
        "import matplotlib.pyplot as plt"
      ]
    },
    {
      "cell_type": "markdown",
      "source": [
        "## Initial data exploration (*importing files, renaming columns and dropping useless ones*)"
      ],
      "metadata": {
        "id": "nxKvaWYS-IBG"
      }
    },
    {
      "cell_type": "code",
      "source": [
        "original_suicide_df = pd.read_csv('master.csv')"
      ],
      "metadata": {
        "id": "j69HB5_F-K1c"
      },
      "execution_count": 2,
      "outputs": []
    },
    {
      "cell_type": "code",
      "source": [
        "suicide_df = original_suicide_df.copy()"
      ],
      "metadata": {
        "id": "vumCyuaz-VUD"
      },
      "execution_count": 3,
      "outputs": []
    },
    {
      "cell_type": "code",
      "source": [
        "suicide_df.info()"
      ],
      "metadata": {
        "colab": {
          "base_uri": "https://localhost:8080/"
        },
        "id": "bYp9tNbG-e-8",
        "outputId": "a492c1da-bb50-4874-a379-bc40310c564f"
      },
      "execution_count": 4,
      "outputs": [
        {
          "output_type": "stream",
          "name": "stdout",
          "text": [
            "<class 'pandas.core.frame.DataFrame'>\n",
            "RangeIndex: 31756 entries, 0 to 31755\n",
            "Data columns (total 12 columns):\n",
            " #   Column              Non-Null Count  Dtype  \n",
            "---  ------              --------------  -----  \n",
            " 0   country             31756 non-null  object \n",
            " 1   year                31756 non-null  int64  \n",
            " 2   sex                 31756 non-null  object \n",
            " 3   age                 31756 non-null  object \n",
            " 4   suicides_no         30556 non-null  float64\n",
            " 5   population          31756 non-null  int64  \n",
            " 6   suicides/100k pop   31756 non-null  float64\n",
            " 7   country-year        31756 non-null  object \n",
            " 8   HDI for year        12300 non-null  float64\n",
            " 9    gdp_for_year ($)   31756 non-null  object \n",
            " 10  gdp_per_capita ($)  31756 non-null  float64\n",
            " 11  generation          31756 non-null  object \n",
            "dtypes: float64(4), int64(2), object(6)\n",
            "memory usage: 2.9+ MB\n"
          ]
        }
      ]
    },
    {
      "cell_type": "markdown",
      "source": [
        "By a first look at the info of our dataset we see that the columns have tricky symbols to work with with, so we rename them:"
      ],
      "metadata": {
        "id": "lYvlMQiJ-91h"
      }
    },
    {
      "cell_type": "code",
      "source": [
        "suicide_df.columns = ['country', 'year', 'gender', 'age', 'suicides_no', 'population', 'suicides_100k_pop', 'country_year', 'hdi_for_year', 'gdp_for_year', 'gdp_per_capita', 'generation']"
      ],
      "metadata": {
        "id": "lzsFPrBG_J-y"
      },
      "execution_count": 5,
      "outputs": []
    },
    {
      "cell_type": "code",
      "source": [
        "#Other way\n",
        "#Replace ' ' with '_' method\n",
        "'''\n",
        "#FIXING COLUMNS NAME\n",
        "new_columns = []\n",
        "for column_name in data.columns:\n",
        "  new_column_name = column_name.replace(' ','_').replace('/','_').replace('-','_')\n",
        "  new_columns.append(new_column_name)\n",
        "\n",
        "data.columns = new_columns\n",
        "'''"
      ],
      "metadata": {
        "colab": {
          "base_uri": "https://localhost:8080/",
          "height": 53
        },
        "id": "JV8550W0_zbV",
        "outputId": "d6c7f7d1-4aca-4259-f39b-17348d2f736c"
      },
      "execution_count": null,
      "outputs": [
        {
          "output_type": "execute_result",
          "data": {
            "text/plain": [
              "\"\\n#FIXING COLUMNS NAME\\nnew_columns = []\\nfor column_name in data.columns:\\n  new_column_name = column_name.replace(' ','_').replace('/','_').replace('-','_')\\n  new_columns.append(new_column_name)\\n\\ndata.columns = new_columns\\n\""
            ],
            "application/vnd.google.colaboratory.intrinsic+json": {
              "type": "string"
            }
          },
          "metadata": {},
          "execution_count": 6
        }
      ]
    },
    {
      "cell_type": "code",
      "source": [
        "suicide_df.columns"
      ],
      "metadata": {
        "colab": {
          "base_uri": "https://localhost:8080/"
        },
        "id": "gUAd1bcr_soO",
        "outputId": "efc63650-2ff6-42b1-f4f5-fa8e6d488268"
      },
      "execution_count": 6,
      "outputs": [
        {
          "output_type": "execute_result",
          "data": {
            "text/plain": [
              "Index(['country', 'year', 'gender', 'age', 'suicides_no', 'population',\n",
              "       'suicides_100k_pop', 'country_year', 'hdi_for_year', 'gdp_for_year',\n",
              "       'gdp_per_capita', 'generation'],\n",
              "      dtype='object')"
            ]
          },
          "metadata": {},
          "execution_count": 6
        }
      ]
    },
    {
      "cell_type": "markdown",
      "source": [
        "Once the name are fixed, we see that there are a few columns that we should drop:\n",
        "*   **'country_year'** , as it's useless for our analysis;\n",
        "*   **'hdi_for_year'** , as it has not enough data to work with (*only 12.300 values instead of the 31.756 of the others*);\n",
        "*   **'generation'**, because some values are inaccurate"
      ],
      "metadata": {
        "id": "lDWWw3x4Ad-O"
      }
    },
    {
      "cell_type": "code",
      "source": [
        "suicide_df.drop('country_year', axis=1, inplace=True)\n",
        "suicide_df.drop('hdi_for_year', axis=1, inplace=True)\n",
        "suicide_df.drop('generation', axis=1, inplace=True)"
      ],
      "metadata": {
        "id": "1wnnJsLtBL9b"
      },
      "execution_count": 7,
      "outputs": []
    },
    {
      "cell_type": "code",
      "source": [
        "suicide_df.info()"
      ],
      "metadata": {
        "colab": {
          "base_uri": "https://localhost:8080/"
        },
        "id": "56su1LHYBgRD",
        "outputId": "c7d3f207-c3a0-4268-bef8-a19b8aec4ad5"
      },
      "execution_count": 8,
      "outputs": [
        {
          "output_type": "stream",
          "name": "stdout",
          "text": [
            "<class 'pandas.core.frame.DataFrame'>\n",
            "RangeIndex: 31756 entries, 0 to 31755\n",
            "Data columns (total 9 columns):\n",
            " #   Column             Non-Null Count  Dtype  \n",
            "---  ------             --------------  -----  \n",
            " 0   country            31756 non-null  object \n",
            " 1   year               31756 non-null  int64  \n",
            " 2   gender             31756 non-null  object \n",
            " 3   age                31756 non-null  object \n",
            " 4   suicides_no        30556 non-null  float64\n",
            " 5   population         31756 non-null  int64  \n",
            " 6   suicides_100k_pop  31756 non-null  float64\n",
            " 7   gdp_for_year       31756 non-null  object \n",
            " 8   gdp_per_capita     31756 non-null  float64\n",
            "dtypes: float64(3), int64(2), object(4)\n",
            "memory usage: 2.2+ MB\n"
          ]
        }
      ]
    },
    {
      "cell_type": "markdown",
      "source": [
        "Once the columns are initially fixed we can start looking inside of each one:"
      ],
      "metadata": {
        "id": "fKUQq3-bCWG5"
      }
    },
    {
      "cell_type": "code",
      "source": [
        "suicide_df['country'].unique()"
      ],
      "metadata": {
        "id": "PrvnVgbpDiCv",
        "colab": {
          "base_uri": "https://localhost:8080/"
        },
        "outputId": "a73e9b42-e60a-4a76-e785-a9d20833f4f7"
      },
      "execution_count": 9,
      "outputs": [
        {
          "output_type": "execute_result",
          "data": {
            "text/plain": [
              "array(['Albania', 'Antigua and Barbuda', 'Argentina', 'Armenia', 'Aruba',\n",
              "       'Australia', 'Austria', 'Azerbaijan', 'Bahamas', 'Bahrain',\n",
              "       'Barbados', 'Belarus', 'Belgium', 'Belize',\n",
              "       'Bosnia and Herzegovina', 'Brazil', 'Bulgaria', 'Cabo Verde',\n",
              "       'Canada', 'Chile', 'Colombia', 'Costa Rica', 'Croatia', 'Cuba',\n",
              "       'Cyprus', 'Czech Republic', 'Denmark', 'Dominica', 'Ecuador',\n",
              "       'El Salvador', 'Estonia', 'Fiji', 'Finland', 'France', 'Georgia',\n",
              "       'Germany', 'Greece', 'Grenada', 'Guatemala', 'Guyana', 'Hungary',\n",
              "       'Iceland', 'Ireland', 'Israel', 'Italy', 'Jamaica', 'Japan',\n",
              "       'Kazakhstan', 'Kiribati', 'Kuwait', 'Kyrgyzstan', 'Latvia',\n",
              "       'Lithuania', 'Luxembourg', 'Macau', 'Maldives', 'Malta',\n",
              "       'Mauritius', 'Mexico', 'Mongolia', 'Montenegro', 'Netherlands',\n",
              "       'New Zealand', 'Nicaragua', 'Norway', 'Oman', 'Panama', 'Paraguay',\n",
              "       'Philippines', 'Poland', 'Portugal', 'Puerto Rico', 'Qatar',\n",
              "       'Republic of Korea', 'Romania', 'Russian Federation',\n",
              "       'Saint Kitts and Nevis', 'Saint Lucia',\n",
              "       'Saint Vincent and Grenadines', 'San Marino', 'Serbia',\n",
              "       'Seychelles', 'Singapore', 'Slovakia', 'Slovenia', 'South Africa',\n",
              "       'Spain', 'Sri Lanka', 'Suriname', 'Sweden', 'Switzerland',\n",
              "       'Thailand', 'Trinidad and Tobago', 'Turkey', 'Turkmenistan',\n",
              "       'Ukraine', 'United Arab Emirates', 'United Kingdom',\n",
              "       'United States', 'Uruguay', 'Uzbekistan', 'Brunei Darussalam',\n",
              "       'China, Hong Kong SAR', 'Czechia', 'Dominican Republic', 'Egypt',\n",
              "       'Jordan', 'Lebanon', 'North Macedonia', 'Peru',\n",
              "       'Republic of Moldova', 'Saint Vincent and the Grenadines',\n",
              "       'Tajikistan', 'United States of America'], dtype=object)"
            ]
          },
          "metadata": {},
          "execution_count": 9
        }
      ]
    },
    {
      "cell_type": "markdown",
      "source": [
        "Looking at the countries in our data (**'country'** column), we see that the United States are listed in two different ways, so we fix that:"
      ],
      "metadata": {
        "id": "qnWlrD7pE02x"
      }
    },
    {
      "cell_type": "code",
      "source": [
        "suicide_df.loc[suicide_df['country'] == 'United States', 'country'] = 'United States of America'"
      ],
      "metadata": {
        "id": "ceP86NP7E9d6"
      },
      "execution_count": 10,
      "outputs": []
    },
    {
      "cell_type": "markdown",
      "source": [
        "Looking at the **'age'** column, for a better sorting we fix the 5-14 years range name:"
      ],
      "metadata": {
        "id": "e5DQdCu1FSwR"
      }
    },
    {
      "cell_type": "code",
      "source": [
        "suicide_df.loc[suicide_df['age'] == '5-14 years', 'age'] = '05-14 years'"
      ],
      "metadata": {
        "id": "fawKAqWAFIHe"
      },
      "execution_count": 11,
      "outputs": []
    }
  ]
}